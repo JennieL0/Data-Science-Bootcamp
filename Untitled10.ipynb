{
 "cells": [
  {
   "cell_type": "code",
   "execution_count": 6,
   "id": "3b859081",
   "metadata": {},
   "outputs": [
    {
     "name": "stdout",
     "output_type": "stream",
     "text": [
      "   id            timestamp        country employment_status  job_title  \\\n",
      "0   1  12/11/2018 10:52:26       Slovenia         Full time  Developer   \n",
      "1   2    1/5/2017 16:57:50  United States         Full time        DBA   \n",
      "2   3   12/18/2017 8:13:15         Sweden         Full time        DBA   \n",
      "3   4   12/27/2018 4:56:52  United States         Full time        DBA   \n",
      "4   5  12/11/2018 14:07:58  United States         Full time  Developer   \n",
      "\n",
      "   job_years is_manager  hours_per_week  telecommute_days_per_week  \\\n",
      "0    4.78393        Yes            40.0                        0.0   \n",
      "1    5.00000         No            40.0                        5.0   \n",
      "2    1.00000         No            40.0                        0.0   \n",
      "3    1.00000         No            40.0                        2.0   \n",
      "4    3.00000         No            40.0                        2.0   \n",
      "\n",
      "             education is_education_computer_related certifications  \\\n",
      "0  Bachelors (4 years)                           Yes             No   \n",
      "1  Bachelors (4 years)                           Yes             No   \n",
      "2              Masters                           Yes            Yes   \n",
      "3  Bachelors (4 years)                            No             No   \n",
      "4              Masters                           Yes            Yes   \n",
      "\n",
      "         salary  \n",
      "0   7187.743094  \n",
      "1  10000.000000  \n",
      "2   7000.000000  \n",
      "3   8333.000000  \n",
      "4   7137.000000  \n",
      "<class 'pandas.core.frame.DataFrame'>\n",
      "RangeIndex: 4277 entries, 0 to 4276\n",
      "Data columns (total 13 columns):\n",
      " #   Column                         Non-Null Count  Dtype  \n",
      "---  ------                         --------------  -----  \n",
      " 0   id                             4277 non-null   int64  \n",
      " 1   timestamp                      4277 non-null   object \n",
      " 2   country                        4277 non-null   object \n",
      " 3   employment_status              4277 non-null   object \n",
      " 4   job_title                      4277 non-null   object \n",
      " 5   job_years                      4277 non-null   float64\n",
      " 6   is_manager                     4277 non-null   object \n",
      " 7   hours_per_week                 4260 non-null   float64\n",
      " 8   telecommute_days_per_week      4266 non-null   float64\n",
      " 9   education                      4277 non-null   object \n",
      " 10  is_education_computer_related  4261 non-null   object \n",
      " 11  certifications                 4277 non-null   object \n",
      " 12  salary                         4277 non-null   float64\n",
      "dtypes: float64(4), int64(1), object(8)\n",
      "memory usage: 434.5+ KB\n",
      "None\n"
     ]
    }
   ],
   "source": [
    "import pandas as pd\n",
    "from sklearn.model_selection import train_test_split\n",
    "from sklearn.linear_model import LinearRegression\n",
    "from sklearn.metrics import mean_absolute_error, mean_squared_error\n",
    "from sklearn.preprocessing import StandardScaler\n",
    "from sklearn.preprocessing import LabelEncoder\n",
    "\n",
    "# Load data\n",
    "data = pd.read_csv('C:/Users/Cheny/Downloads/employee.csv')\n",
    "\n",
    "# Inspect the data\n",
    "print(data.head())\n",
    "print(data.info())"
   ]
  },
  {
   "cell_type": "code",
   "execution_count": 13,
   "id": "c040a3fd",
   "metadata": {},
   "outputs": [],
   "source": [
    "\n",
    "\n",
    "# Handle any specific preprocessing here (like encoding, filling missing values, etc.)\n",
    "# If you split the data before, make sure to transform the test data as well (without fitting)\n",
    "X_test_scaled = imputer.transform(X_test_scaled)\n",
    "# Convert date strings to datetime objects and then to ordinal\n",
    "if 'date_column_name' in data.columns:\n",
    "    data['date_column_name'] = pd.to_datetime(data['date_column_name']).apply(lambda x: x.toordinal())\n",
    "\n",
    "# Assuming there are categorical columns that need encoding\n",
    "categorical_cols = data.select_dtypes(include=['object']).columns  # This selects non-numeric columns\n",
    "label_encoders = {}\n",
    "for col in categorical_cols:\n",
    "    le = LabelEncoder()\n",
    "    data[col] = le.fit_transform(data[col])\n",
    "    label_encoders[col] = le  # Store label encoder for each column if needed later\n",
    "\n",
    "X = data.drop('salary', axis=1)\n",
    "y = data['salary']\n",
    "# Split data into training and testing sets\n",
    "X_train, X_test, y_train, y_test = train_test_split(X, y, test_size=0.2, random_state=42)\n",
    "\n",
    "# Optionally scale data\n",
    "scaler = StandardScaler()\n",
    "X_train_scaled = scaler.fit_transform(X_train)\n",
    "X_test_scaled = scaler.transform(X_test)"
   ]
  },
  {
   "cell_type": "code",
   "execution_count": 17,
   "id": "1e86cccc",
   "metadata": {},
   "outputs": [],
   "source": [
    "from sklearn.impute import SimpleImputer\n",
    "\n",
    "# Create the imputer object with a strategy of replacing NaNs with the mean of the column\n",
    "imputer = SimpleImputer(strategy='mean')\n",
    "\n",
    "# Fit and transform the training data\n",
    "X_train_scaled = imputer.fit_transform(X_train_scaled)\n",
    "\n",
    "# If you split the data before, make sure to transform the test data as well (without fitting)\n",
    "X_test_scaled = imputer.transform(X_test_scaled)\n",
    "# Train the model\n",
    "model = LinearRegression()\n",
    "model.fit(X_train_scaled, y_train)\n",
    "\n",
    "# Predict on test data\n",
    "y_pred = model.predict(X_test_scaled)"
   ]
  },
  {
   "cell_type": "code",
   "execution_count": 18,
   "id": "e8c16cbd",
   "metadata": {},
   "outputs": [
    {
     "name": "stdout",
     "output_type": "stream",
     "text": [
      "Mean Absolute Error: 883.4230668647734\n",
      "Mean Squared Error: 1521906.014503893\n"
     ]
    }
   ],
   "source": [
    "# Calculate MAE and MSE\n",
    "mae = mean_absolute_error(y_test, y_pred)\n",
    "mse = mean_squared_error(y_test, y_pred)\n",
    "\n",
    "print(f\"Mean Absolute Error: {mae}\")\n",
    "print(f\"Mean Squared Error: {mse}\")"
   ]
  },
  {
   "cell_type": "code",
   "execution_count": 19,
   "id": "c7b7a640",
   "metadata": {},
   "outputs": [
    {
     "name": "stdout",
     "output_type": "stream",
     "text": [
      "Ridge MAE: 883.4173191015218, MSE: 1521904.8214466549\n",
      "Lasso MAE: 883.4166483165867, MSE: 1521899.709646439\n",
      "Linear Regression MAE:  883.4230668647734\n",
      "Linear Regression MSE:  1521906.014503893\n",
      "Ridge Regression MAE:  883.4173191015218\n",
      "Ridge Regression MSE:  1521904.8214466549\n",
      "Lasso Regression MAE:  883.4166483165867\n",
      "Lasso Regression MSE:  1521899.709646439\n"
     ]
    }
   ],
   "source": [
    "from sklearn.linear_model import Ridge, Lasso\n",
    "\n",
    "# Ridge Regression\n",
    "ridge_model = Ridge(alpha=1.0)\n",
    "ridge_model.fit(X_train_scaled, y_train)\n",
    "y_pred_ridge = ridge_model.predict(X_test_scaled)\n",
    "\n",
    "# Lasso Regression\n",
    "lasso_model = Lasso(alpha=0.1)\n",
    "lasso_model.fit(X_train_scaled, y_train)\n",
    "y_pred_lasso = lasso_model.predict(X_test_scaled)\n",
    "\n",
    "# Evaluate Ridge and Lasso\n",
    "mae_ridge = mean_absolute_error(y_test, y_pred_ridge)\n",
    "mse_ridge = mean_squared_error(y_test, y_pred_ridge)\n",
    "mae_lasso = mean_absolute_error(y_test, y_pred_lasso)\n",
    "mse_lasso = mean_squared_error(y_test, y_pred_lasso)\n",
    "\n",
    "print(f\"Ridge MAE: {mae_ridge}, MSE: {mse_ridge}\")\n",
    "print(f\"Lasso MAE: {mae_lasso}, MSE: {mse_lasso}\")\n",
    "# Compare the metrics to see which model performs better\n",
    "print(\"Linear Regression MAE: \", mae)\n",
    "print(\"Linear Regression MSE: \", mse)\n",
    "print(\"Ridge Regression MAE: \", mae_ridge)\n",
    "print(\"Ridge Regression MSE: \", mse_ridge)\n",
    "print(\"Lasso Regression MAE: \", mae_lasso)\n",
    "print(\"Lasso Regression MSE: \", mse_lasso)"
   ]
  },
  {
   "cell_type": "markdown",
   "id": "3b46dafb",
   "metadata": {},
   "source": [
    " lower MAE suggests it is better on average across all predictions. so based on the answer we get Lasso regression get better on average across all prediction. Based on the value of MSE, we also know Lasso regression is stable than other, meaning less error."
   ]
  },
  {
   "cell_type": "code",
   "execution_count": null,
   "id": "de3f2a28",
   "metadata": {},
   "outputs": [],
   "source": []
  }
 ],
 "metadata": {
  "kernelspec": {
   "display_name": "Python 3 (ipykernel)",
   "language": "python",
   "name": "python3"
  },
  "language_info": {
   "codemirror_mode": {
    "name": "ipython",
    "version": 3
   },
   "file_extension": ".py",
   "mimetype": "text/x-python",
   "name": "python",
   "nbconvert_exporter": "python",
   "pygments_lexer": "ipython3",
   "version": "3.9.7"
  }
 },
 "nbformat": 4,
 "nbformat_minor": 5
}
