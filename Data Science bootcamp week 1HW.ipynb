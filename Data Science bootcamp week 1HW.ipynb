{
 "cells": [
  {
   "cell_type": "markdown",
   "id": "c95c3d58",
   "metadata": {},
   "source": [
    "### Question 1:\n",
    "Write a function count_vowels(word) that takes a word as an argument and returns the number of vowels in the word"
   ]
  },
  {
   "cell_type": "code",
   "execution_count": 1,
   "id": "e57a0c60",
   "metadata": {},
   "outputs": [
    {
     "name": "stdout",
     "output_type": "stream",
     "text": [
      "3\n"
     ]
    }
   ],
   "source": [
    "def count_vowels(word):\n",
    "    vowel = 'aeiouAEIOU'\n",
    "    count = 0\n",
    "    for letter in word:\n",
    "        if letter in vowel:\n",
    "            count += 1\n",
    "    return count\n",
    "\n",
    "word = \"example\"\n",
    "vowel = count_vowels(word)\n",
    "print(vowel)"
   ]
  },
  {
   "cell_type": "markdown",
   "id": "2fcada5a",
   "metadata": {},
   "source": [
    "### Question 2:\n",
    "Iterate through the following list of animals and print each one in all caps.\n",
    "animals=['tiger', 'elephant', 'monkey', 'zebra', 'panther']"
   ]
  },
  {
   "cell_type": "code",
   "execution_count": 2,
   "id": "a7513d38",
   "metadata": {},
   "outputs": [
    {
     "name": "stdout",
     "output_type": "stream",
     "text": [
      "TIGER\n",
      "ELEPHANT\n",
      "MONKEY\n",
      "ZEBRA\n",
      "PANTHER\n"
     ]
    }
   ],
   "source": [
    "animals=['tiger', 'elephant', 'monkey', 'zebra', 'panther']\n",
    "for animal in animals:\n",
    "    print(animal.upper())  "
   ]
  },
  {
   "cell_type": "markdown",
   "id": "bcb7a3ca",
   "metadata": {},
   "source": [
    "### Question 3:\n",
    "Write a program that iterates from 1 to 20, printing each number and whether it's odd or even."
   ]
  },
  {
   "cell_type": "code",
   "execution_count": 4,
   "id": "6798f921",
   "metadata": {},
   "outputs": [
    {
     "name": "stdout",
     "output_type": "stream",
     "text": [
      "1 is odd\n",
      "2 is even\n",
      "3 is odd\n",
      "4 is even\n",
      "5 is odd\n",
      "6 is even\n",
      "7 is odd\n",
      "8 is even\n",
      "9 is odd\n",
      "10 is even\n",
      "11 is odd\n",
      "12 is even\n",
      "13 is odd\n",
      "14 is even\n",
      "15 is odd\n",
      "16 is even\n",
      "17 is odd\n",
      "18 is even\n",
      "19 is odd\n",
      "20 is even\n"
     ]
    }
   ],
   "source": [
    "i = 1\n",
    "while i <= 20:\n",
    "    if i % 2 == 1:\n",
    "        print(f\"{i} is odd\")\n",
    "    else:\n",
    "        print(f\"{i} is even\")\n",
    "    i+=1"
   ]
  },
  {
   "cell_type": "markdown",
   "id": "f372e0a5",
   "metadata": {},
   "source": [
    "### Question 4:\n",
    "Write a function sum_of_integers(a, b) that takes two integers as input from the user and returns their sum."
   ]
  },
  {
   "cell_type": "code",
   "execution_count": 9,
   "id": "9e0455db",
   "metadata": {},
   "outputs": [
    {
     "data": {
      "text/plain": [
       "18"
      ]
     },
     "execution_count": 9,
     "metadata": {},
     "output_type": "execute_result"
    }
   ],
   "source": [
    "def sum_of_integers(a,b):\n",
    "    return a+b\n",
    "a = 5\n",
    "b = 7\n",
    "sum = sum_of_integers(10,8)\n",
    "sum"
   ]
  },
  {
   "cell_type": "markdown",
   "id": "059ad8ed",
   "metadata": {},
   "source": [
    "### Additional Challenge - Book data challenge"
   ]
  },
  {
   "cell_type": "code",
   "execution_count": 20,
   "id": "34cb6260",
   "metadata": {},
   "outputs": [],
   "source": [
    "books = [\n",
    "    {\n",
    "        \"title\": \"The Great Gatsby\",\n",
    "        \"author\": \"F. Scott Fitzgerald\",\n",
    "        \"genre\": \"Fiction\",\n",
    "        \"rating\": 4.2\n",
    "    },\n",
    "    {\n",
    "        \"title\": \"To Kill a Mockingbird\",\n",
    "        \"author\": \"Harper Lee\",\n",
    "        \"genre\": \"Classic\",\n",
    "        \"rating\": 4.5\n",
    "    },\n",
    "    {\n",
    "        \"title\": \"1984\",\n",
    "        \"author\": \"George Orwell\",\n",
    "        \"genre\": \"Dystopian\",\n",
    "        \"rating\": 4.8\n",
    "    },\n",
    "    {\n",
    "        \"title\": \"Pride and Prejudice\",\n",
    "        \"author\": \"Jane Austen\",\n",
    "        \"genre\": \"Romance\",\n",
    "        \"rating\": 4.7\n",
    "    },\n",
    "    {\n",
    "        \"title\": \"Harry Potter and the Sorcerer's Stone\",\n",
    "        \"author\": \"J.K. Rowling\",\n",
    "        \"genre\": \"Fantasy\",\n",
    "        \"rating\": 4.9\n",
    "    },\n",
    "    {\n",
    "        \"title\": \"The Catcher in the Rye\",\n",
    "        \"author\": \"J.D. Salinger\",\n",
    "        \"genre\": \"Coming-of-age\",\n",
    "        \"rating\": 4.1\n",
    "    }\n",
    "]"
   ]
  },
  {
   "cell_type": "code",
   "execution_count": 21,
   "id": "fc8e55a5",
   "metadata": {},
   "outputs": [
    {
     "name": "stdout",
     "output_type": "stream",
     "text": [
      "The Great Gatsby is rated medium\n",
      "To Kill a Mockingbird is rated medium\n",
      "1984 is rated high\n",
      "Pride and Prejudice is rated high\n",
      "Harry Potter and the Sorcerer's Stone is rated high\n",
      "The Catcher in the Rye is rated medium\n"
     ]
    }
   ],
   "source": [
    "# 1. Checking Book Ratings\n",
    "def check_rating(book):\n",
    "    if book['rating']>4.5:\n",
    "        return 'high'\n",
    "    elif book[\"rating\"]>4.0:\n",
    "        return 'medium'\n",
    "    else:\n",
    "        return 'low'\n",
    "for book in books:\n",
    "    print(f\"{book['title']} is rated {check_rating(book)}\")"
   ]
  },
  {
   "cell_type": "code",
   "execution_count": 23,
   "id": "fa05d1a3",
   "metadata": {},
   "outputs": [],
   "source": [
    "# 2. Average Rating by Genre\n",
    "def average_rating_by_genre(books, genre):\n",
    "    # Filter books by the specified genre\n",
    "    genre_books = [book for book in books if book['genre'] == genre]\n",
    "    \n",
    "    # Check if the genre exists in the list\n",
    "    if not genre_books:\n",
    "        return \"Genre not found.\"\n",
    "    \n",
    "    # Calculate the average rating\n",
    "    total_rating = sum(book['rating'] for book in genre_books)\n",
    "    average_rating = total_rating / len(genre_books)\n",
    "    \n",
    "    return average_rating"
   ]
  },
  {
   "cell_type": "code",
   "execution_count": null,
   "id": "94d288ad",
   "metadata": {},
   "outputs": [],
   "source": [
    "# 3. Books by Author\n"
   ]
  }
 ],
 "metadata": {
  "kernelspec": {
   "display_name": "Python 3 (ipykernel)",
   "language": "python",
   "name": "python3"
  },
  "language_info": {
   "codemirror_mode": {
    "name": "ipython",
    "version": 3
   },
   "file_extension": ".py",
   "mimetype": "text/x-python",
   "name": "python",
   "nbconvert_exporter": "python",
   "pygments_lexer": "ipython3",
   "version": "3.11.4"
  }
 },
 "nbformat": 4,
 "nbformat_minor": 5
}
